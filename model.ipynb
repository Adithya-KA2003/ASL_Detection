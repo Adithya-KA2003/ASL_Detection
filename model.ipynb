{
 "cells": [
  {
   "cell_type": "code",
   "execution_count": 1,
   "metadata": {},
   "outputs": [],
   "source": [
    "import os\n",
    "import tensorflow as tf\n",
    "from keras.models import Sequential\n",
    "from keras.layers import Conv2D, MaxPooling2D, Flatten, Dense, Dropout, BatchNormalization, GlobalAveragePooling2D, LeakyReLU\n",
    "from keras.preprocessing.image import ImageDataGenerator\n",
    "import matplotlib.pyplot as plt"
   ]
  },
  {
   "cell_type": "code",
   "execution_count": 2,
   "metadata": {},
   "outputs": [
    {
     "name": "stdout",
     "output_type": "stream",
     "text": [
      "Dataset Class Distribution: {'A': 150, 'B': 150, 'C': 150, 'D': 150, 'E': 150, 'F': 150, 'G': 150, 'H': 150, 'I': 150, 'J': 150, 'K': 150, 'L': 150, 'M': 150, 'N': 150, 'O': 150, 'P': 150, 'Q': 150, 'R': 150, 'S': 150, 'T': 150, 'U': 150, 'V': 150, 'W': 150, 'X': 150, 'Y': 150, 'Z': 150}\n"
     ]
    }
   ],
   "source": [
    "# ✅ Set dataset path\n",
    "train_dir = \"C:/Users/adith/OneDrive/Desktop/ASL/Data\"\n",
    "\n",
    "# ✅ Check class distribution\n",
    "class_counts = {folder: len(os.listdir(os.path.join(train_dir, folder))) for folder in os.listdir(train_dir) if os.path.isdir(os.path.join(train_dir, folder))}\n",
    "print(\"Dataset Class Distribution:\", class_counts)\n"
   ]
  },
  {
   "cell_type": "code",
   "execution_count": 3,
   "metadata": {},
   "outputs": [],
   "source": [
    "# ✅ ImageDataGenerator with Data Augmentation\n",
    "train_datagen = ImageDataGenerator(\n",
    "    rescale=1.0 / 255,  \n",
    "    rotation_range=15,   \n",
    "    width_shift_range=0.2,  \n",
    "    height_shift_range=0.2,  \n",
    "    zoom_range=0.2,  \n",
    "    horizontal_flip=True,  \n",
    "    validation_split=0.2  \n",
    ")\n"
   ]
  },
  {
   "cell_type": "code",
   "execution_count": 4,
   "metadata": {},
   "outputs": [
    {
     "name": "stdout",
     "output_type": "stream",
     "text": [
      "Found 3120 images belonging to 26 classes.\n"
     ]
    }
   ],
   "source": [
    "# ✅ Load training data\n",
    "train_generator = train_datagen.flow_from_directory(\n",
    "    train_dir,\n",
    "    target_size=(128, 128),\n",
    "    batch_size=32,\n",
    "    color_mode=\"grayscale\",  # Matches dataset format\n",
    "    class_mode=\"categorical\",\n",
    "    subset=\"training\"\n",
    ")"
   ]
  },
  {
   "cell_type": "code",
   "execution_count": 5,
   "metadata": {},
   "outputs": [
    {
     "name": "stdout",
     "output_type": "stream",
     "text": [
      "Found 780 images belonging to 26 classes.\n",
      "Class Labels Mapping: {'A': 0, 'B': 1, 'C': 2, 'D': 3, 'E': 4, 'F': 5, 'G': 6, 'H': 7, 'I': 8, 'J': 9, 'K': 10, 'L': 11, 'M': 12, 'N': 13, 'O': 14, 'P': 15, 'Q': 16, 'R': 17, 'S': 18, 'T': 19, 'U': 20, 'V': 21, 'W': 22, 'X': 23, 'Y': 24, 'Z': 25}\n"
     ]
    }
   ],
   "source": [
    "# ✅ Load validation data\n",
    "val_generator = train_datagen.flow_from_directory(\n",
    "    train_dir,\n",
    "    target_size=(128, 128),\n",
    "    batch_size=32,\n",
    "    color_mode=\"grayscale\",  # Matches dataset format\n",
    "    class_mode=\"categorical\",\n",
    "    subset=\"validation\"\n",
    ")\n",
    "\n",
    "# ✅ Print the class labels\n",
    "print(\"Class Labels Mapping:\", train_generator.class_indices)"
   ]
  },
  {
   "cell_type": "code",
   "execution_count": 6,
   "metadata": {},
   "outputs": [],
   "source": [
    "\n",
    "# ✅ Improved CNN Model\n",
    "model = Sequential([\n",
    "    # First Conv Block\n",
    "    Conv2D(32, (3, 3), padding='same', input_shape=(128, 128, 1)),  \n",
    "    LeakyReLU(alpha=0.1),\n",
    "    BatchNormalization(),\n",
    "    MaxPooling2D(2, 2),\n",
    "\n",
    "    # Second Conv Block\n",
    "    Conv2D(64, (3, 3), padding='same'),\n",
    "    LeakyReLU(alpha=0.1),\n",
    "    BatchNormalization(),\n",
    "    MaxPooling2D(2, 2),\n",
    "\n",
    "    # Third Conv Block\n",
    "    Conv2D(128, (3, 3), padding='same'),\n",
    "    LeakyReLU(alpha=0.1),\n",
    "    BatchNormalization(),\n",
    "    MaxPooling2D(2, 2),\n",
    "\n",
    "    # Fourth Conv Block\n",
    "    Conv2D(256, (3, 3), padding='same'),\n",
    "    LeakyReLU(alpha=0.1),\n",
    "    BatchNormalization(),\n",
    "    MaxPooling2D(2, 2),\n",
    "\n",
    "    # Fifth Conv Block (Extra for better learning)\n",
    "    Conv2D(512, (3, 3), padding='same'),\n",
    "    LeakyReLU(alpha=0.1),\n",
    "    BatchNormalization(),\n",
    "    MaxPooling2D(2, 2),\n",
    "\n",
    "    # Global Average Pooling (Better than Flatten for generalization)\n",
    "    GlobalAveragePooling2D(),\n",
    "\n",
    "    # Fully Connected Layer\n",
    "    Dense(512, activation='relu'),\n",
    "    Dropout(0.5),  \n",
    "\n",
    "    # Output Layer\n",
    "    Dense(len(train_generator.class_indices), activation='softmax')\n",
    "])\n",
    "\n"
   ]
  },
  {
   "cell_type": "code",
   "execution_count": 7,
   "metadata": {},
   "outputs": [
    {
     "name": "stdout",
     "output_type": "stream",
     "text": [
      "Epoch 1/20\n",
      "98/98 [==============================] - 63s 620ms/step - loss: 2.6629 - accuracy: 0.2115 - val_loss: 3.7251 - val_accuracy: 0.0346\n",
      "Epoch 2/20\n",
      "98/98 [==============================] - 57s 577ms/step - loss: 1.8252 - accuracy: 0.4404 - val_loss: 5.2201 - val_accuracy: 0.0385\n",
      "Epoch 3/20\n",
      "98/98 [==============================] - 60s 610ms/step - loss: 1.3398 - accuracy: 0.6038 - val_loss: 5.9317 - val_accuracy: 0.0385\n",
      "Epoch 4/20\n",
      "98/98 [==============================] - 58s 592ms/step - loss: 1.0167 - accuracy: 0.7032 - val_loss: 5.4241 - val_accuracy: 0.0718\n",
      "Epoch 5/20\n",
      "98/98 [==============================] - 57s 578ms/step - loss: 0.7894 - accuracy: 0.7804 - val_loss: 4.1517 - val_accuracy: 0.0846\n",
      "Epoch 6/20\n",
      "98/98 [==============================] - 58s 587ms/step - loss: 0.6116 - accuracy: 0.8285 - val_loss: 2.1201 - val_accuracy: 0.3795\n",
      "Epoch 7/20\n",
      "98/98 [==============================] - 57s 579ms/step - loss: 0.4794 - accuracy: 0.8756 - val_loss: 1.2245 - val_accuracy: 0.5705\n",
      "Epoch 8/20\n",
      "98/98 [==============================] - 57s 580ms/step - loss: 0.4042 - accuracy: 0.8936 - val_loss: 1.3268 - val_accuracy: 0.6308\n",
      "Epoch 9/20\n",
      "98/98 [==============================] - 56s 571ms/step - loss: 0.3327 - accuracy: 0.9154 - val_loss: 1.1143 - val_accuracy: 0.6551\n",
      "Epoch 10/20\n",
      "98/98 [==============================] - 56s 575ms/step - loss: 0.2772 - accuracy: 0.9308 - val_loss: 1.4476 - val_accuracy: 0.5974\n",
      "Epoch 11/20\n",
      "98/98 [==============================] - 56s 567ms/step - loss: 0.2428 - accuracy: 0.9446 - val_loss: 0.9985 - val_accuracy: 0.7077\n",
      "Epoch 12/20\n",
      "98/98 [==============================] - 56s 570ms/step - loss: 0.2001 - accuracy: 0.9535 - val_loss: 1.1704 - val_accuracy: 0.6628\n",
      "Epoch 13/20\n",
      "98/98 [==============================] - 62s 627ms/step - loss: 0.1703 - accuracy: 0.9612 - val_loss: 1.0273 - val_accuracy: 0.7026\n",
      "Epoch 14/20\n",
      "98/98 [==============================] - 57s 581ms/step - loss: 0.1468 - accuracy: 0.9667 - val_loss: 1.0278 - val_accuracy: 0.6897\n",
      "Epoch 15/20\n",
      "98/98 [==============================] - 56s 575ms/step - loss: 0.1496 - accuracy: 0.9647 - val_loss: 1.1173 - val_accuracy: 0.6577\n",
      "Epoch 16/20\n",
      "98/98 [==============================] - 58s 589ms/step - loss: 0.1272 - accuracy: 0.9715 - val_loss: 0.9902 - val_accuracy: 0.7397\n",
      "Epoch 17/20\n",
      "98/98 [==============================] - 57s 581ms/step - loss: 0.1112 - accuracy: 0.9776 - val_loss: 1.0643 - val_accuracy: 0.7115\n",
      "Epoch 18/20\n",
      "98/98 [==============================] - 57s 576ms/step - loss: 0.0979 - accuracy: 0.9779 - val_loss: 1.0067 - val_accuracy: 0.6936\n",
      "Epoch 19/20\n",
      "98/98 [==============================] - 55s 563ms/step - loss: 0.0819 - accuracy: 0.9862 - val_loss: 0.9538 - val_accuracy: 0.7346\n",
      "Epoch 20/20\n",
      "98/98 [==============================] - 56s 567ms/step - loss: 0.0910 - accuracy: 0.9776 - val_loss: 1.0301 - val_accuracy: 0.7141\n"
     ]
    }
   ],
   "source": [
    "# ✅ Compile Model with lower learning rate\n",
    "model.compile(optimizer=tf.keras.optimizers.Adam(learning_rate=0.0001),\n",
    "              loss='categorical_crossentropy',\n",
    "              metrics=['accuracy'])\n",
    "\n",
    "# ✅ Train the Model\n",
    "history = model.fit(\n",
    "    train_generator,\n",
    "    validation_data=val_generator,\n",
    "    epochs=20,  \n",
    "    verbose=1\n",
    ")"
   ]
  },
  {
   "cell_type": "code",
   "execution_count": null,
   "metadata": {},
   "outputs": [],
   "source": []
  },
  {
   "cell_type": "code",
   "execution_count": 8,
   "metadata": {},
   "outputs": [
    {
     "name": "stderr",
     "output_type": "stream",
     "text": [
      "c:\\Users\\adith\\OneDrive\\Desktop\\ASL\\.venv\\lib\\site-packages\\keras\\src\\engine\\training.py:3000: UserWarning: You are saving your model as an HDF5 file via `model.save()`. This file format is considered legacy. We recommend using instead the native Keras format, e.g. `model.save('my_model.keras')`.\n",
      "  saving_api.save_model(\n"
     ]
    }
   ],
   "source": [
    "model.save(\"my_model.h5\")"
   ]
  },
  {
   "cell_type": "code",
   "execution_count": null,
   "metadata": {},
   "outputs": [],
   "source": []
  }
 ],
 "metadata": {
  "kernelspec": {
   "display_name": ".venv",
   "language": "python",
   "name": "python3"
  },
  "language_info": {
   "codemirror_mode": {
    "name": "ipython",
    "version": 3
   },
   "file_extension": ".py",
   "mimetype": "text/x-python",
   "name": "python",
   "nbconvert_exporter": "python",
   "pygments_lexer": "ipython3",
   "version": "3.8.8"
  }
 },
 "nbformat": 4,
 "nbformat_minor": 2
}
